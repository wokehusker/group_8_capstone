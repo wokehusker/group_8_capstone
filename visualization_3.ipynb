{
 "cells": [
  {
   "cell_type": "markdown",
   "metadata": {},
   "source": [
    "This is the third visualization, It display the relationship between studio and market share <br>\n",
    "For user-friendly, only display the top 20 studio between 2010 to 2020"
   ]
  },
  {
   "cell_type": "markdown",
   "metadata": {},
   "source": [
    "import every package that we used"
   ]
  },
  {
   "cell_type": "code",
   "execution_count": 1,
   "metadata": {},
   "outputs": [],
   "source": [
    "import pandas as pd\n",
    "import matplotlib.pyplot as plt\n",
    "import numpy as np"
   ]
  },
  {
   "cell_type": "markdown",
   "metadata": {},
   "source": [
    "import data that we will use and check"
   ]
  },
  {
   "cell_type": "code",
   "execution_count": 2,
   "metadata": {},
   "outputs": [
    {
     "data": {
      "text/html": [
       "<div>\n",
       "<style scoped>\n",
       "    .dataframe tbody tr th:only-of-type {\n",
       "        vertical-align: middle;\n",
       "    }\n",
       "\n",
       "    .dataframe tbody tr th {\n",
       "        vertical-align: top;\n",
       "    }\n",
       "\n",
       "    .dataframe thead th {\n",
       "        text-align: right;\n",
       "    }\n",
       "</style>\n",
       "<table border=\"1\" class=\"dataframe\">\n",
       "  <thead>\n",
       "    <tr style=\"text-align: right;\">\n",
       "      <th></th>\n",
       "      <th>movie_id</th>\n",
       "      <th>primary_title</th>\n",
       "      <th>original_title</th>\n",
       "      <th>start_year</th>\n",
       "      <th>runtime_minutes</th>\n",
       "      <th>genres</th>\n",
       "      <th>movie_id.1</th>\n",
       "      <th>averagerating</th>\n",
       "      <th>numvotes</th>\n",
       "      <th>title</th>\n",
       "      <th>studio</th>\n",
       "      <th>domestic_gross_x</th>\n",
       "      <th>year</th>\n",
       "      <th>id</th>\n",
       "      <th>release_date</th>\n",
       "      <th>movie</th>\n",
       "      <th>production_budget</th>\n",
       "      <th>domestic_gross_y</th>\n",
       "      <th>worldwide_gross</th>\n",
       "    </tr>\n",
       "  </thead>\n",
       "  <tbody>\n",
       "    <tr>\n",
       "      <th>0</th>\n",
       "      <td>tt1375666</td>\n",
       "      <td>Inception</td>\n",
       "      <td>Inception</td>\n",
       "      <td>2010</td>\n",
       "      <td>148.0</td>\n",
       "      <td>Action,Adventure,Sci-Fi</td>\n",
       "      <td>tt1375666</td>\n",
       "      <td>8.8</td>\n",
       "      <td>1841066</td>\n",
       "      <td>Inception</td>\n",
       "      <td>WB</td>\n",
       "      <td>292600000.0</td>\n",
       "      <td>2010</td>\n",
       "      <td>38</td>\n",
       "      <td>Jul 16, 2010</td>\n",
       "      <td>Inception</td>\n",
       "      <td>160000000</td>\n",
       "      <td>292576195</td>\n",
       "      <td>835524642</td>\n",
       "    </tr>\n",
       "    <tr>\n",
       "      <th>1</th>\n",
       "      <td>tt1345836</td>\n",
       "      <td>The Dark Knight Rises</td>\n",
       "      <td>The Dark Knight Rises</td>\n",
       "      <td>2012</td>\n",
       "      <td>164.0</td>\n",
       "      <td>Action,Thriller</td>\n",
       "      <td>tt1345836</td>\n",
       "      <td>8.4</td>\n",
       "      <td>1387769</td>\n",
       "      <td>The Dark Knight Rises</td>\n",
       "      <td>WB</td>\n",
       "      <td>448100000.0</td>\n",
       "      <td>2012</td>\n",
       "      <td>11</td>\n",
       "      <td>Jul 20, 2012</td>\n",
       "      <td>The Dark Knight Rises</td>\n",
       "      <td>275000000</td>\n",
       "      <td>448139099</td>\n",
       "      <td>1084439099</td>\n",
       "    </tr>\n",
       "    <tr>\n",
       "      <th>2</th>\n",
       "      <td>tt0816692</td>\n",
       "      <td>Interstellar</td>\n",
       "      <td>Interstellar</td>\n",
       "      <td>2014</td>\n",
       "      <td>169.0</td>\n",
       "      <td>Adventure,Drama,Sci-Fi</td>\n",
       "      <td>tt0816692</td>\n",
       "      <td>8.6</td>\n",
       "      <td>1299334</td>\n",
       "      <td>Interstellar</td>\n",
       "      <td>Par.</td>\n",
       "      <td>188000000.0</td>\n",
       "      <td>2014</td>\n",
       "      <td>32</td>\n",
       "      <td>Nov 5, 2014</td>\n",
       "      <td>Interstellar</td>\n",
       "      <td>165000000</td>\n",
       "      <td>188017894</td>\n",
       "      <td>666379375</td>\n",
       "    </tr>\n",
       "    <tr>\n",
       "      <th>3</th>\n",
       "      <td>tt1853728</td>\n",
       "      <td>Django Unchained</td>\n",
       "      <td>Django Unchained</td>\n",
       "      <td>2012</td>\n",
       "      <td>165.0</td>\n",
       "      <td>Drama,Western</td>\n",
       "      <td>tt1853728</td>\n",
       "      <td>8.4</td>\n",
       "      <td>1211405</td>\n",
       "      <td>Django Unchained</td>\n",
       "      <td>Wein.</td>\n",
       "      <td>162800000.0</td>\n",
       "      <td>2012</td>\n",
       "      <td>69</td>\n",
       "      <td>Dec 25, 2012</td>\n",
       "      <td>Django Unchained</td>\n",
       "      <td>100000000</td>\n",
       "      <td>162805434</td>\n",
       "      <td>449948323</td>\n",
       "    </tr>\n",
       "    <tr>\n",
       "      <th>4</th>\n",
       "      <td>tt0993846</td>\n",
       "      <td>The Wolf of Wall Street</td>\n",
       "      <td>The Wolf of Wall Street</td>\n",
       "      <td>2013</td>\n",
       "      <td>180.0</td>\n",
       "      <td>Biography,Crime,Drama</td>\n",
       "      <td>tt0993846</td>\n",
       "      <td>8.2</td>\n",
       "      <td>1035358</td>\n",
       "      <td>The Wolf of Wall Street</td>\n",
       "      <td>Par.</td>\n",
       "      <td>116900000.0</td>\n",
       "      <td>2013</td>\n",
       "      <td>76</td>\n",
       "      <td>Dec 25, 2013</td>\n",
       "      <td>The Wolf of Wall Street</td>\n",
       "      <td>100000000</td>\n",
       "      <td>116900694</td>\n",
       "      <td>389870414</td>\n",
       "    </tr>\n",
       "    <tr>\n",
       "      <th>...</th>\n",
       "      <td>...</td>\n",
       "      <td>...</td>\n",
       "      <td>...</td>\n",
       "      <td>...</td>\n",
       "      <td>...</td>\n",
       "      <td>...</td>\n",
       "      <td>...</td>\n",
       "      <td>...</td>\n",
       "      <td>...</td>\n",
       "      <td>...</td>\n",
       "      <td>...</td>\n",
       "      <td>...</td>\n",
       "      <td>...</td>\n",
       "      <td>...</td>\n",
       "      <td>...</td>\n",
       "      <td>...</td>\n",
       "      <td>...</td>\n",
       "      <td>...</td>\n",
       "      <td>...</td>\n",
       "    </tr>\n",
       "    <tr>\n",
       "      <th>1373</th>\n",
       "      <td>tt4360484</td>\n",
       "      <td>The Joneses</td>\n",
       "      <td>The Joneses</td>\n",
       "      <td>2016</td>\n",
       "      <td>80.0</td>\n",
       "      <td>Biography,Documentary</td>\n",
       "      <td>tt4360484</td>\n",
       "      <td>5.9</td>\n",
       "      <td>15</td>\n",
       "      <td>The Joneses</td>\n",
       "      <td>RAtt.</td>\n",
       "      <td>1500000.0</td>\n",
       "      <td>2010</td>\n",
       "      <td>88</td>\n",
       "      <td>Apr 16, 2010</td>\n",
       "      <td>The Joneses</td>\n",
       "      <td>10000000</td>\n",
       "      <td>1475746</td>\n",
       "      <td>3541565</td>\n",
       "    </tr>\n",
       "    <tr>\n",
       "      <th>1374</th>\n",
       "      <td>tt1833881</td>\n",
       "      <td>Chloe</td>\n",
       "      <td>The 10 Commandments of Chloe</td>\n",
       "      <td>2013</td>\n",
       "      <td>73.0</td>\n",
       "      <td>Drama,Music,Romance</td>\n",
       "      <td>tt1833881</td>\n",
       "      <td>6.9</td>\n",
       "      <td>34</td>\n",
       "      <td>Chloe</td>\n",
       "      <td>SPC</td>\n",
       "      <td>3100000.0</td>\n",
       "      <td>2010</td>\n",
       "      <td>97</td>\n",
       "      <td>Mar 26, 2010</td>\n",
       "      <td>Chloe</td>\n",
       "      <td>13000000</td>\n",
       "      <td>3075255</td>\n",
       "      <td>11831131</td>\n",
       "    </tr>\n",
       "    <tr>\n",
       "      <th>1375</th>\n",
       "      <td>tt8851190</td>\n",
       "      <td>Red</td>\n",
       "      <td>Red</td>\n",
       "      <td>2018</td>\n",
       "      <td>90.0</td>\n",
       "      <td>Drama</td>\n",
       "      <td>tt8851190</td>\n",
       "      <td>8.1</td>\n",
       "      <td>26</td>\n",
       "      <td>Red</td>\n",
       "      <td>Sum.</td>\n",
       "      <td>90400000.0</td>\n",
       "      <td>2010</td>\n",
       "      <td>63</td>\n",
       "      <td>Oct 15, 2010</td>\n",
       "      <td>Red</td>\n",
       "      <td>60000000</td>\n",
       "      <td>90380162</td>\n",
       "      <td>196439693</td>\n",
       "    </tr>\n",
       "    <tr>\n",
       "      <th>1376</th>\n",
       "      <td>tt4170206</td>\n",
       "      <td>Red</td>\n",
       "      <td>Red</td>\n",
       "      <td>2014</td>\n",
       "      <td>107.0</td>\n",
       "      <td>Drama</td>\n",
       "      <td>tt4170206</td>\n",
       "      <td>8.4</td>\n",
       "      <td>8</td>\n",
       "      <td>Red</td>\n",
       "      <td>Sum.</td>\n",
       "      <td>90400000.0</td>\n",
       "      <td>2010</td>\n",
       "      <td>63</td>\n",
       "      <td>Oct 15, 2010</td>\n",
       "      <td>Red</td>\n",
       "      <td>60000000</td>\n",
       "      <td>90380162</td>\n",
       "      <td>196439693</td>\n",
       "    </tr>\n",
       "    <tr>\n",
       "      <th>1377</th>\n",
       "      <td>tt3436064</td>\n",
       "      <td>The Last Station</td>\n",
       "      <td>La última estación</td>\n",
       "      <td>2012</td>\n",
       "      <td>90.0</td>\n",
       "      <td>Documentary</td>\n",
       "      <td>tt3436064</td>\n",
       "      <td>7.6</td>\n",
       "      <td>10</td>\n",
       "      <td>The Last Station</td>\n",
       "      <td>SPC</td>\n",
       "      <td>6600000.0</td>\n",
       "      <td>2010</td>\n",
       "      <td>25</td>\n",
       "      <td>Jan 15, 2010</td>\n",
       "      <td>The Last Station</td>\n",
       "      <td>18000000</td>\n",
       "      <td>6617867</td>\n",
       "      <td>15696146</td>\n",
       "    </tr>\n",
       "  </tbody>\n",
       "</table>\n",
       "<p>1378 rows × 19 columns</p>\n",
       "</div>"
      ],
      "text/plain": [
       "       movie_id            primary_title                original_title  \\\n",
       "0     tt1375666                Inception                     Inception   \n",
       "1     tt1345836    The Dark Knight Rises         The Dark Knight Rises   \n",
       "2     tt0816692             Interstellar                  Interstellar   \n",
       "3     tt1853728         Django Unchained              Django Unchained   \n",
       "4     tt0993846  The Wolf of Wall Street       The Wolf of Wall Street   \n",
       "...         ...                      ...                           ...   \n",
       "1373  tt4360484              The Joneses                   The Joneses   \n",
       "1374  tt1833881                    Chloe  The 10 Commandments of Chloe   \n",
       "1375  tt8851190                      Red                           Red   \n",
       "1376  tt4170206                      Red                           Red   \n",
       "1377  tt3436064         The Last Station            La última estación   \n",
       "\n",
       "      start_year  runtime_minutes                   genres movie_id.1  \\\n",
       "0           2010            148.0  Action,Adventure,Sci-Fi  tt1375666   \n",
       "1           2012            164.0          Action,Thriller  tt1345836   \n",
       "2           2014            169.0   Adventure,Drama,Sci-Fi  tt0816692   \n",
       "3           2012            165.0            Drama,Western  tt1853728   \n",
       "4           2013            180.0    Biography,Crime,Drama  tt0993846   \n",
       "...          ...              ...                      ...        ...   \n",
       "1373        2016             80.0    Biography,Documentary  tt4360484   \n",
       "1374        2013             73.0      Drama,Music,Romance  tt1833881   \n",
       "1375        2018             90.0                    Drama  tt8851190   \n",
       "1376        2014            107.0                    Drama  tt4170206   \n",
       "1377        2012             90.0              Documentary  tt3436064   \n",
       "\n",
       "      averagerating  numvotes                    title studio  \\\n",
       "0               8.8   1841066                Inception     WB   \n",
       "1               8.4   1387769    The Dark Knight Rises     WB   \n",
       "2               8.6   1299334             Interstellar   Par.   \n",
       "3               8.4   1211405         Django Unchained  Wein.   \n",
       "4               8.2   1035358  The Wolf of Wall Street   Par.   \n",
       "...             ...       ...                      ...    ...   \n",
       "1373            5.9        15              The Joneses  RAtt.   \n",
       "1374            6.9        34                    Chloe    SPC   \n",
       "1375            8.1        26                      Red   Sum.   \n",
       "1376            8.4         8                      Red   Sum.   \n",
       "1377            7.6        10         The Last Station    SPC   \n",
       "\n",
       "      domestic_gross_x  year  id  release_date                    movie  \\\n",
       "0          292600000.0  2010  38  Jul 16, 2010                Inception   \n",
       "1          448100000.0  2012  11  Jul 20, 2012    The Dark Knight Rises   \n",
       "2          188000000.0  2014  32   Nov 5, 2014             Interstellar   \n",
       "3          162800000.0  2012  69  Dec 25, 2012         Django Unchained   \n",
       "4          116900000.0  2013  76  Dec 25, 2013  The Wolf of Wall Street   \n",
       "...                ...   ...  ..           ...                      ...   \n",
       "1373         1500000.0  2010  88  Apr 16, 2010              The Joneses   \n",
       "1374         3100000.0  2010  97  Mar 26, 2010                    Chloe   \n",
       "1375        90400000.0  2010  63  Oct 15, 2010                      Red   \n",
       "1376        90400000.0  2010  63  Oct 15, 2010                      Red   \n",
       "1377         6600000.0  2010  25  Jan 15, 2010         The Last Station   \n",
       "\n",
       "      production_budget  domestic_gross_y  worldwide_gross  \n",
       "0             160000000         292576195        835524642  \n",
       "1             275000000         448139099       1084439099  \n",
       "2             165000000         188017894        666379375  \n",
       "3             100000000         162805434        449948323  \n",
       "4             100000000         116900694        389870414  \n",
       "...                 ...               ...              ...  \n",
       "1373           10000000           1475746          3541565  \n",
       "1374           13000000           3075255         11831131  \n",
       "1375           60000000          90380162        196439693  \n",
       "1376           60000000          90380162        196439693  \n",
       "1377           18000000           6617867         15696146  \n",
       "\n",
       "[1378 rows x 19 columns]"
      ]
     },
     "execution_count": 2,
     "metadata": {},
     "output_type": "execute_result"
    }
   ],
   "source": [
    "df_gross = pd.read_csv('df_gross.zip')\n",
    "df_gross"
   ]
  },
  {
   "cell_type": "code",
   "execution_count": 3,
   "metadata": {
    "scrolled": false
   },
   "outputs": [
    {
     "data": {
      "text/plain": [
       "WB       157\n",
       "Uni.     146\n",
       "Fox      124\n",
       "Par.      82\n",
       "BV        78\n",
       "Sony      75\n",
       "LGF       64\n",
       "FoxS      60\n",
       "Focus     48\n",
       "Wein.     46\n",
       "IFC       31\n",
       "RAtt.     31\n",
       "Rela.     30\n",
       "ORF       30\n",
       "LG/S      29\n",
       "SPC       29\n",
       "SGem      26\n",
       "A24       21\n",
       "Magn.     20\n",
       "TriS      18\n",
       "Name: studio, dtype: int64"
      ]
     },
     "execution_count": 3,
     "metadata": {},
     "output_type": "execute_result"
    }
   ],
   "source": [
    "df_gross['studio'] = df_gross['studio'].replace(['WB (NL)'], 'WB')\n",
    "df_gross['studio'].value_counts().head(20)"
   ]
  },
  {
   "cell_type": "markdown",
   "metadata": {},
   "source": [
    "group the data by studio in descending order"
   ]
  },
  {
   "cell_type": "code",
   "execution_count": 4,
   "metadata": {},
   "outputs": [
    {
     "data": {
      "text/plain": [
       "studio\n",
       "BV      14993207462\n",
       "WB      14248977437\n",
       "Uni.    12807747903\n",
       "Fox     10419424269\n",
       "Sony     6978740466\n",
       "           ...     \n",
       "FCW           17484\n",
       "Alc           17472\n",
       "P4             9120\n",
       "BBC               0\n",
       "KE                0\n",
       "Name: domestic_gross_y, Length: 88, dtype: int64"
      ]
     },
     "execution_count": 4,
     "metadata": {},
     "output_type": "execute_result"
    }
   ],
   "source": [
    "series_tmp = df_gross.groupby('studio')['domestic_gross_y'].sum().sort_values(ascending = False)\n",
    "series_tmp"
   ]
  },
  {
   "cell_type": "markdown",
   "metadata": {},
   "source": [
    "find the total domestic market by taking sum of domestic gross"
   ]
  },
  {
   "cell_type": "code",
   "execution_count": 5,
   "metadata": {},
   "outputs": [
    {
     "data": {
      "text/plain": [
       "83438773511"
      ]
     },
     "execution_count": 5,
     "metadata": {},
     "output_type": "execute_result"
    }
   ],
   "source": [
    "total_domestic_market = df_gross['domestic_gross_y'].sum()\n",
    "total_domestic_market"
   ]
  },
  {
   "cell_type": "markdown",
   "metadata": {},
   "source": [
    "find the market share by deviding each domestic by total domestic, and round by 3"
   ]
  },
  {
   "cell_type": "code",
   "execution_count": 6,
   "metadata": {},
   "outputs": [
    {
     "name": "stdout",
     "output_type": "stream",
     "text": [
      "studio\n",
      "BV       0.180\n",
      "WB       0.171\n",
      "Uni.     0.153\n",
      "Fox      0.125\n",
      "Sony     0.084\n",
      "Par.     0.076\n",
      "LGF      0.040\n",
      "P/DW     0.020\n",
      "Wein.    0.016\n",
      "LG/S     0.016\n",
      "SGem     0.013\n",
      "Focus    0.013\n",
      "FoxS     0.013\n",
      "Rela.    0.011\n",
      "TriS     0.010\n",
      "Sum.     0.009\n",
      "STX      0.008\n",
      "ORF      0.008\n",
      "CBS      0.003\n",
      "A24      0.003\n",
      "Name: domestic_gross_y, dtype: float64\n",
      "0.9720000000000001\n"
     ]
    }
   ],
   "source": [
    "marketshare = round(series_tmp/total_domestic_market,3)\n",
    "print(marketshare.head(20))\n",
    "print(marketshare.head(20).sum())\n",
    "\n",
    "# 97% of the market is owned by the top 20 studios"
   ]
  },
  {
   "cell_type": "code",
   "execution_count": 7,
   "metadata": {},
   "outputs": [
    {
     "data": {
      "text/plain": [
       "studio\n",
       "BV      18.0\n",
       "WB      17.1\n",
       "Uni.    15.3\n",
       "Fox     12.5\n",
       "Sony     8.4\n",
       "        ... \n",
       "FCW      0.0\n",
       "Alc      0.0\n",
       "P4       0.0\n",
       "BBC      0.0\n",
       "KE       0.0\n",
       "Name: domestic_gross_y, Length: 88, dtype: float64"
      ]
     },
     "execution_count": 7,
     "metadata": {},
     "output_type": "execute_result"
    }
   ],
   "source": [
    "series_tmp = round(series_tmp/total_domestic_market,3)\n",
    "series_tmp = series_tmp*100\n",
    "series_tmp"
   ]
  },
  {
   "cell_type": "markdown",
   "metadata": {},
   "source": [
    "the top 20 studio has 97.2 percent of entire market share"
   ]
  },
  {
   "cell_type": "markdown",
   "metadata": {},
   "source": [
    "display the percent market share"
   ]
  },
  {
   "cell_type": "code",
   "execution_count": 9,
   "metadata": {},
   "outputs": [
    {
     "data": {
      "image/png": "[encoded data removed]",
      "text/plain": [
       "<Figure size 432x288 with 1 Axes>"
      ]
     },
     "metadata": {
      "needs_background": "light"
     },
     "output_type": "display_data"
    }
   ],
   "source": [
    "# create dataframe of top 20 and draw plot diagram\n",
    "df_graph = pd.DataFrame(series_tmp)\n",
    "df_graph[:20].plot.bar(color = '#86BC25', width=0.8)\n",
    "\n",
    "plt.xticks(rotation=60, ha='right')\n",
    "\n",
    "plt.title('Market Share of Top 20 Studios')\n",
    "plt.xlabel('Studio Names')\n",
    "plt.ylabel('Percentage Market Share')\n",
    "plt.legend('')\n",
    "\n",
    "plt.show()"
   ]
  },
  {
   "cell_type": "markdown",
   "metadata": {},
   "source": [
    "From the result, notes that BV is part of Disney, WB is Warners Brothers, Uni is Universial Studio, Par. is Paramount Pictures."
   ]
  }
 ],
 "metadata": {
  "kernelspec": {
   "display_name": "Python 3",
   "language": "python",
   "name": "python3"
  },
  "language_info": {
   "codemirror_mode": {
    "name": "ipython",
    "version": 3
   },
   "file_extension": ".py",
   "mimetype": "text/x-python",
   "name": "python",
   "nbconvert_exporter": "python",
   "pygments_lexer": "ipython3",
   "version": "3.8.5"
  }
 },
 "nbformat": 4,
 "nbformat_minor": 4
}
