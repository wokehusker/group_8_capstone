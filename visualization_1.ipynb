{
 "cells": [
  {
   "cell_type": "code",
   "execution_count": 47,
   "metadata": {},
   "outputs": [],
   "source": [
    "import pandas as pd\n",
    "import sqlite3\n",
    "import matplotlib.pyplot as plt\n",
    "import numpy as np\n",
    "from scipy import stats"
   ]
  },
  {
   "cell_type": "code",
   "execution_count": 5,
   "metadata": {},
   "outputs": [],
   "source": [
    "# open zipped data files\n",
    "df_gross = pd.read_csv(\"df_gross.zip\")\n",
    "df_rating = pd.read_csv(\"df_rating.zip\")"
   ]
  },
  {
   "cell_type": "code",
   "execution_count": 7,
   "metadata": {},
   "outputs": [
    {
     "data": {
      "text/html": [
       "<div>\n",
       "<style scoped>\n",
       "    .dataframe tbody tr th:only-of-type {\n",
       "        vertical-align: middle;\n",
       "    }\n",
       "\n",
       "    .dataframe tbody tr th {\n",
       "        vertical-align: top;\n",
       "    }\n",
       "\n",
       "    .dataframe thead th {\n",
       "        text-align: right;\n",
       "    }\n",
       "</style>\n",
       "<table border=\"1\" class=\"dataframe\">\n",
       "  <thead>\n",
       "    <tr style=\"text-align: right;\">\n",
       "      <th></th>\n",
       "      <th>movie_id</th>\n",
       "      <th>primary_title</th>\n",
       "      <th>original_title</th>\n",
       "      <th>start_year</th>\n",
       "      <th>runtime_minutes</th>\n",
       "      <th>genres</th>\n",
       "      <th>movie_id.1</th>\n",
       "      <th>averagerating</th>\n",
       "      <th>numvotes</th>\n",
       "      <th>title</th>\n",
       "      <th>studio</th>\n",
       "      <th>domestic_gross</th>\n",
       "      <th>year</th>\n",
       "    </tr>\n",
       "  </thead>\n",
       "  <tbody>\n",
       "    <tr>\n",
       "      <th>0</th>\n",
       "      <td>tt1375666</td>\n",
       "      <td>Inception</td>\n",
       "      <td>Inception</td>\n",
       "      <td>2010</td>\n",
       "      <td>148.0</td>\n",
       "      <td>Action,Adventure,Sci-Fi</td>\n",
       "      <td>tt1375666</td>\n",
       "      <td>8.8</td>\n",
       "      <td>1841066</td>\n",
       "      <td>Inception</td>\n",
       "      <td>WB</td>\n",
       "      <td>292600000.0</td>\n",
       "      <td>2010</td>\n",
       "    </tr>\n",
       "    <tr>\n",
       "      <th>1</th>\n",
       "      <td>tt1345836</td>\n",
       "      <td>The Dark Knight Rises</td>\n",
       "      <td>The Dark Knight Rises</td>\n",
       "      <td>2012</td>\n",
       "      <td>164.0</td>\n",
       "      <td>Action,Thriller</td>\n",
       "      <td>tt1345836</td>\n",
       "      <td>8.4</td>\n",
       "      <td>1387769</td>\n",
       "      <td>The Dark Knight Rises</td>\n",
       "      <td>WB</td>\n",
       "      <td>448100000.0</td>\n",
       "      <td>2012</td>\n",
       "    </tr>\n",
       "    <tr>\n",
       "      <th>2</th>\n",
       "      <td>tt0816692</td>\n",
       "      <td>Interstellar</td>\n",
       "      <td>Interstellar</td>\n",
       "      <td>2014</td>\n",
       "      <td>169.0</td>\n",
       "      <td>Adventure,Drama,Sci-Fi</td>\n",
       "      <td>tt0816692</td>\n",
       "      <td>8.6</td>\n",
       "      <td>1299334</td>\n",
       "      <td>Interstellar</td>\n",
       "      <td>Par.</td>\n",
       "      <td>188000000.0</td>\n",
       "      <td>2014</td>\n",
       "    </tr>\n",
       "    <tr>\n",
       "      <th>3</th>\n",
       "      <td>tt1853728</td>\n",
       "      <td>Django Unchained</td>\n",
       "      <td>Django Unchained</td>\n",
       "      <td>2012</td>\n",
       "      <td>165.0</td>\n",
       "      <td>Drama,Western</td>\n",
       "      <td>tt1853728</td>\n",
       "      <td>8.4</td>\n",
       "      <td>1211405</td>\n",
       "      <td>Django Unchained</td>\n",
       "      <td>Wein.</td>\n",
       "      <td>162800000.0</td>\n",
       "      <td>2012</td>\n",
       "    </tr>\n",
       "    <tr>\n",
       "      <th>4</th>\n",
       "      <td>tt0993846</td>\n",
       "      <td>The Wolf of Wall Street</td>\n",
       "      <td>The Wolf of Wall Street</td>\n",
       "      <td>2013</td>\n",
       "      <td>180.0</td>\n",
       "      <td>Biography,Crime,Drama</td>\n",
       "      <td>tt0993846</td>\n",
       "      <td>8.2</td>\n",
       "      <td>1035358</td>\n",
       "      <td>The Wolf of Wall Street</td>\n",
       "      <td>Par.</td>\n",
       "      <td>116900000.0</td>\n",
       "      <td>2013</td>\n",
       "    </tr>\n",
       "  </tbody>\n",
       "</table>\n",
       "</div>"
      ],
      "text/plain": [
       "    movie_id            primary_title           original_title  start_year  \\\n",
       "0  tt1375666                Inception                Inception        2010   \n",
       "1  tt1345836    The Dark Knight Rises    The Dark Knight Rises        2012   \n",
       "2  tt0816692             Interstellar             Interstellar        2014   \n",
       "3  tt1853728         Django Unchained         Django Unchained        2012   \n",
       "4  tt0993846  The Wolf of Wall Street  The Wolf of Wall Street        2013   \n",
       "\n",
       "   runtime_minutes                   genres movie_id.1  averagerating  \\\n",
       "0            148.0  Action,Adventure,Sci-Fi  tt1375666            8.8   \n",
       "1            164.0          Action,Thriller  tt1345836            8.4   \n",
       "2            169.0   Adventure,Drama,Sci-Fi  tt0816692            8.6   \n",
       "3            165.0            Drama,Western  tt1853728            8.4   \n",
       "4            180.0    Biography,Crime,Drama  tt0993846            8.2   \n",
       "\n",
       "   numvotes                    title studio  domestic_gross  year  \n",
       "0   1841066                Inception     WB     292600000.0  2010  \n",
       "1   1387769    The Dark Knight Rises     WB     448100000.0  2012  \n",
       "2   1299334             Interstellar   Par.     188000000.0  2014  \n",
       "3   1211405         Django Unchained  Wein.     162800000.0  2012  \n",
       "4   1035358  The Wolf of Wall Street   Par.     116900000.0  2013  "
      ]
     },
     "execution_count": 7,
     "metadata": {},
     "output_type": "execute_result"
    }
   ],
   "source": [
    "# check df files\n",
    "df_rating.head()"
   ]
  },
  {
   "cell_type": "code",
   "execution_count": 6,
   "metadata": {},
   "outputs": [
    {
     "data": {
      "text/html": [
       "<div>\n",
       "<style scoped>\n",
       "    .dataframe tbody tr th:only-of-type {\n",
       "        vertical-align: middle;\n",
       "    }\n",
       "\n",
       "    .dataframe tbody tr th {\n",
       "        vertical-align: top;\n",
       "    }\n",
       "\n",
       "    .dataframe thead th {\n",
       "        text-align: right;\n",
       "    }\n",
       "</style>\n",
       "<table border=\"1\" class=\"dataframe\">\n",
       "  <thead>\n",
       "    <tr style=\"text-align: right;\">\n",
       "      <th></th>\n",
       "      <th>movie_id</th>\n",
       "      <th>primary_title</th>\n",
       "      <th>original_title</th>\n",
       "      <th>start_year</th>\n",
       "      <th>runtime_minutes</th>\n",
       "      <th>genres</th>\n",
       "      <th>movie_id.1</th>\n",
       "      <th>averagerating</th>\n",
       "      <th>numvotes</th>\n",
       "      <th>title</th>\n",
       "      <th>studio</th>\n",
       "      <th>domestic_gross_x</th>\n",
       "      <th>year</th>\n",
       "      <th>id</th>\n",
       "      <th>release_date</th>\n",
       "      <th>movie</th>\n",
       "      <th>production_budget</th>\n",
       "      <th>domestic_gross_y</th>\n",
       "      <th>worldwide_gross</th>\n",
       "    </tr>\n",
       "  </thead>\n",
       "  <tbody>\n",
       "    <tr>\n",
       "      <th>0</th>\n",
       "      <td>tt1375666</td>\n",
       "      <td>Inception</td>\n",
       "      <td>Inception</td>\n",
       "      <td>2010</td>\n",
       "      <td>148.0</td>\n",
       "      <td>Action,Adventure,Sci-Fi</td>\n",
       "      <td>tt1375666</td>\n",
       "      <td>8.8</td>\n",
       "      <td>1841066</td>\n",
       "      <td>Inception</td>\n",
       "      <td>WB</td>\n",
       "      <td>292600000.0</td>\n",
       "      <td>2010</td>\n",
       "      <td>38</td>\n",
       "      <td>Jul 16, 2010</td>\n",
       "      <td>Inception</td>\n",
       "      <td>160000000</td>\n",
       "      <td>292576195</td>\n",
       "      <td>835524642</td>\n",
       "    </tr>\n",
       "    <tr>\n",
       "      <th>1</th>\n",
       "      <td>tt1345836</td>\n",
       "      <td>The Dark Knight Rises</td>\n",
       "      <td>The Dark Knight Rises</td>\n",
       "      <td>2012</td>\n",
       "      <td>164.0</td>\n",
       "      <td>Action,Thriller</td>\n",
       "      <td>tt1345836</td>\n",
       "      <td>8.4</td>\n",
       "      <td>1387769</td>\n",
       "      <td>The Dark Knight Rises</td>\n",
       "      <td>WB</td>\n",
       "      <td>448100000.0</td>\n",
       "      <td>2012</td>\n",
       "      <td>11</td>\n",
       "      <td>Jul 20, 2012</td>\n",
       "      <td>The Dark Knight Rises</td>\n",
       "      <td>275000000</td>\n",
       "      <td>448139099</td>\n",
       "      <td>1084439099</td>\n",
       "    </tr>\n",
       "    <tr>\n",
       "      <th>2</th>\n",
       "      <td>tt0816692</td>\n",
       "      <td>Interstellar</td>\n",
       "      <td>Interstellar</td>\n",
       "      <td>2014</td>\n",
       "      <td>169.0</td>\n",
       "      <td>Adventure,Drama,Sci-Fi</td>\n",
       "      <td>tt0816692</td>\n",
       "      <td>8.6</td>\n",
       "      <td>1299334</td>\n",
       "      <td>Interstellar</td>\n",
       "      <td>Par.</td>\n",
       "      <td>188000000.0</td>\n",
       "      <td>2014</td>\n",
       "      <td>32</td>\n",
       "      <td>Nov 5, 2014</td>\n",
       "      <td>Interstellar</td>\n",
       "      <td>165000000</td>\n",
       "      <td>188017894</td>\n",
       "      <td>666379375</td>\n",
       "    </tr>\n",
       "    <tr>\n",
       "      <th>3</th>\n",
       "      <td>tt1853728</td>\n",
       "      <td>Django Unchained</td>\n",
       "      <td>Django Unchained</td>\n",
       "      <td>2012</td>\n",
       "      <td>165.0</td>\n",
       "      <td>Drama,Western</td>\n",
       "      <td>tt1853728</td>\n",
       "      <td>8.4</td>\n",
       "      <td>1211405</td>\n",
       "      <td>Django Unchained</td>\n",
       "      <td>Wein.</td>\n",
       "      <td>162800000.0</td>\n",
       "      <td>2012</td>\n",
       "      <td>69</td>\n",
       "      <td>Dec 25, 2012</td>\n",
       "      <td>Django Unchained</td>\n",
       "      <td>100000000</td>\n",
       "      <td>162805434</td>\n",
       "      <td>449948323</td>\n",
       "    </tr>\n",
       "    <tr>\n",
       "      <th>4</th>\n",
       "      <td>tt0993846</td>\n",
       "      <td>The Wolf of Wall Street</td>\n",
       "      <td>The Wolf of Wall Street</td>\n",
       "      <td>2013</td>\n",
       "      <td>180.0</td>\n",
       "      <td>Biography,Crime,Drama</td>\n",
       "      <td>tt0993846</td>\n",
       "      <td>8.2</td>\n",
       "      <td>1035358</td>\n",
       "      <td>The Wolf of Wall Street</td>\n",
       "      <td>Par.</td>\n",
       "      <td>116900000.0</td>\n",
       "      <td>2013</td>\n",
       "      <td>76</td>\n",
       "      <td>Dec 25, 2013</td>\n",
       "      <td>The Wolf of Wall Street</td>\n",
       "      <td>100000000</td>\n",
       "      <td>116900694</td>\n",
       "      <td>389870414</td>\n",
       "    </tr>\n",
       "  </tbody>\n",
       "</table>\n",
       "</div>"
      ],
      "text/plain": [
       "    movie_id            primary_title           original_title  start_year  \\\n",
       "0  tt1375666                Inception                Inception        2010   \n",
       "1  tt1345836    The Dark Knight Rises    The Dark Knight Rises        2012   \n",
       "2  tt0816692             Interstellar             Interstellar        2014   \n",
       "3  tt1853728         Django Unchained         Django Unchained        2012   \n",
       "4  tt0993846  The Wolf of Wall Street  The Wolf of Wall Street        2013   \n",
       "\n",
       "   runtime_minutes                   genres movie_id.1  averagerating  \\\n",
       "0            148.0  Action,Adventure,Sci-Fi  tt1375666            8.8   \n",
       "1            164.0          Action,Thriller  tt1345836            8.4   \n",
       "2            169.0   Adventure,Drama,Sci-Fi  tt0816692            8.6   \n",
       "3            165.0            Drama,Western  tt1853728            8.4   \n",
       "4            180.0    Biography,Crime,Drama  tt0993846            8.2   \n",
       "\n",
       "   numvotes                    title studio  domestic_gross_x  year  id  \\\n",
       "0   1841066                Inception     WB       292600000.0  2010  38   \n",
       "1   1387769    The Dark Knight Rises     WB       448100000.0  2012  11   \n",
       "2   1299334             Interstellar   Par.       188000000.0  2014  32   \n",
       "3   1211405         Django Unchained  Wein.       162800000.0  2012  69   \n",
       "4   1035358  The Wolf of Wall Street   Par.       116900000.0  2013  76   \n",
       "\n",
       "   release_date                    movie  production_budget  domestic_gross_y  \\\n",
       "0  Jul 16, 2010                Inception          160000000         292576195   \n",
       "1  Jul 20, 2012    The Dark Knight Rises          275000000         448139099   \n",
       "2   Nov 5, 2014             Interstellar          165000000         188017894   \n",
       "3  Dec 25, 2012         Django Unchained          100000000         162805434   \n",
       "4  Dec 25, 2013  The Wolf of Wall Street          100000000         116900694   \n",
       "\n",
       "   worldwide_gross  \n",
       "0        835524642  \n",
       "1       1084439099  \n",
       "2        666379375  \n",
       "3        449948323  \n",
       "4        389870414  "
      ]
     },
     "execution_count": 6,
     "metadata": {},
     "output_type": "execute_result"
    }
   ],
   "source": [
    "df_gross.head()"
   ]
  },
  {
   "cell_type": "code",
   "execution_count": 18,
   "metadata": {},
   "outputs": [
    {
     "name": "stdout",
     "output_type": "stream",
     "text": [
      "<class 'pandas.core.frame.DataFrame'>\n",
      "RangeIndex: 1378 entries, 0 to 1377\n",
      "Data columns (total 19 columns):\n",
      " #   Column             Non-Null Count  Dtype  \n",
      "---  ------             --------------  -----  \n",
      " 0   movie_id           1378 non-null   object \n",
      " 1   primary_title      1378 non-null   object \n",
      " 2   original_title     1378 non-null   object \n",
      " 3   start_year         1378 non-null   int64  \n",
      " 4   runtime_minutes    1378 non-null   float64\n",
      " 5   genres             1378 non-null   object \n",
      " 6   movie_id.1         1378 non-null   object \n",
      " 7   averagerating      1378 non-null   float64\n",
      " 8   numvotes           1378 non-null   int64  \n",
      " 9   title              1378 non-null   object \n",
      " 10  studio             1378 non-null   object \n",
      " 11  domestic_gross_x   1378 non-null   float64\n",
      " 12  year               1378 non-null   int64  \n",
      " 13  id                 1378 non-null   int64  \n",
      " 14  release_date       1378 non-null   object \n",
      " 15  movie              1378 non-null   object \n",
      " 16  production_budget  1378 non-null   int64  \n",
      " 17  domestic_gross_y   1378 non-null   int64  \n",
      " 18  worldwide_gross    1378 non-null   int64  \n",
      "dtypes: float64(3), int64(7), object(9)\n",
      "memory usage: 204.7+ KB\n"
     ]
    }
   ],
   "source": [
    "df_gross.info()"
   ]
  },
  {
   "cell_type": "code",
   "execution_count": 37,
   "metadata": {},
   "outputs": [
    {
     "data": {
      "text/html": [
       "<div>\n",
       "<style scoped>\n",
       "    .dataframe tbody tr th:only-of-type {\n",
       "        vertical-align: middle;\n",
       "    }\n",
       "\n",
       "    .dataframe tbody tr th {\n",
       "        vertical-align: top;\n",
       "    }\n",
       "\n",
       "    .dataframe thead th {\n",
       "        text-align: right;\n",
       "    }\n",
       "</style>\n",
       "<table border=\"1\" class=\"dataframe\">\n",
       "  <thead>\n",
       "    <tr style=\"text-align: right;\">\n",
       "      <th></th>\n",
       "      <th>start_year</th>\n",
       "      <th>runtime_minutes</th>\n",
       "      <th>averagerating</th>\n",
       "      <th>numvotes</th>\n",
       "      <th>domestic_gross_x</th>\n",
       "      <th>year</th>\n",
       "      <th>id</th>\n",
       "      <th>production_budget</th>\n",
       "      <th>domestic_gross_y</th>\n",
       "      <th>worldwide_gross</th>\n",
       "    </tr>\n",
       "  </thead>\n",
       "  <tbody>\n",
       "    <tr>\n",
       "      <th>count</th>\n",
       "      <td>1378.000000</td>\n",
       "      <td>1378.000000</td>\n",
       "      <td>1378.000000</td>\n",
       "      <td>1.378000e+03</td>\n",
       "      <td>1.378000e+03</td>\n",
       "      <td>1378.000000</td>\n",
       "      <td>1378.000000</td>\n",
       "      <td>1.378000e+03</td>\n",
       "      <td>1.378000e+03</td>\n",
       "      <td>1.378000e+03</td>\n",
       "    </tr>\n",
       "    <tr>\n",
       "      <th>mean</th>\n",
       "      <td>2013.653120</td>\n",
       "      <td>107.301887</td>\n",
       "      <td>6.439478</td>\n",
       "      <td>1.162326e+05</td>\n",
       "      <td>6.067686e+07</td>\n",
       "      <td>2013.723512</td>\n",
       "      <td>51.831640</td>\n",
       "      <td>4.640999e+07</td>\n",
       "      <td>6.055063e+07</td>\n",
       "      <td>1.513981e+08</td>\n",
       "    </tr>\n",
       "    <tr>\n",
       "      <th>std</th>\n",
       "      <td>2.521108</td>\n",
       "      <td>19.720679</td>\n",
       "      <td>1.014403</td>\n",
       "      <td>1.651563e+05</td>\n",
       "      <td>8.515963e+07</td>\n",
       "      <td>2.526786</td>\n",
       "      <td>28.560692</td>\n",
       "      <td>5.543063e+07</td>\n",
       "      <td>8.518984e+07</td>\n",
       "      <td>2.350158e+08</td>\n",
       "    </tr>\n",
       "    <tr>\n",
       "      <th>min</th>\n",
       "      <td>2010.000000</td>\n",
       "      <td>3.000000</td>\n",
       "      <td>1.600000</td>\n",
       "      <td>5.000000e+00</td>\n",
       "      <td>8.000000e+02</td>\n",
       "      <td>2010.000000</td>\n",
       "      <td>1.000000</td>\n",
       "      <td>5.000000e+04</td>\n",
       "      <td>0.000000e+00</td>\n",
       "      <td>0.000000e+00</td>\n",
       "    </tr>\n",
       "    <tr>\n",
       "      <th>25%</th>\n",
       "      <td>2011.000000</td>\n",
       "      <td>95.000000</td>\n",
       "      <td>5.900000</td>\n",
       "      <td>1.517450e+04</td>\n",
       "      <td>7.250000e+06</td>\n",
       "      <td>2011.000000</td>\n",
       "      <td>27.000000</td>\n",
       "      <td>1.000000e+07</td>\n",
       "      <td>7.195253e+06</td>\n",
       "      <td>1.753941e+07</td>\n",
       "    </tr>\n",
       "    <tr>\n",
       "      <th>50%</th>\n",
       "      <td>2014.000000</td>\n",
       "      <td>105.000000</td>\n",
       "      <td>6.500000</td>\n",
       "      <td>6.033650e+04</td>\n",
       "      <td>3.370000e+07</td>\n",
       "      <td>2014.000000</td>\n",
       "      <td>52.000000</td>\n",
       "      <td>2.500000e+07</td>\n",
       "      <td>3.333898e+07</td>\n",
       "      <td>6.531321e+07</td>\n",
       "    </tr>\n",
       "    <tr>\n",
       "      <th>75%</th>\n",
       "      <td>2016.000000</td>\n",
       "      <td>118.000000</td>\n",
       "      <td>7.100000</td>\n",
       "      <td>1.397005e+05</td>\n",
       "      <td>7.390000e+07</td>\n",
       "      <td>2016.000000</td>\n",
       "      <td>76.000000</td>\n",
       "      <td>5.800000e+07</td>\n",
       "      <td>7.409887e+07</td>\n",
       "      <td>1.707416e+08</td>\n",
       "    </tr>\n",
       "    <tr>\n",
       "      <th>max</th>\n",
       "      <td>2019.000000</td>\n",
       "      <td>192.000000</td>\n",
       "      <td>9.200000</td>\n",
       "      <td>1.841066e+06</td>\n",
       "      <td>7.001000e+08</td>\n",
       "      <td>2018.000000</td>\n",
       "      <td>100.000000</td>\n",
       "      <td>4.106000e+08</td>\n",
       "      <td>7.000596e+08</td>\n",
       "      <td>2.048134e+09</td>\n",
       "    </tr>\n",
       "  </tbody>\n",
       "</table>\n",
       "</div>"
      ],
      "text/plain": [
       "        start_year  runtime_minutes  averagerating      numvotes  \\\n",
       "count  1378.000000      1378.000000    1378.000000  1.378000e+03   \n",
       "mean   2013.653120       107.301887       6.439478  1.162326e+05   \n",
       "std       2.521108        19.720679       1.014403  1.651563e+05   \n",
       "min    2010.000000         3.000000       1.600000  5.000000e+00   \n",
       "25%    2011.000000        95.000000       5.900000  1.517450e+04   \n",
       "50%    2014.000000       105.000000       6.500000  6.033650e+04   \n",
       "75%    2016.000000       118.000000       7.100000  1.397005e+05   \n",
       "max    2019.000000       192.000000       9.200000  1.841066e+06   \n",
       "\n",
       "       domestic_gross_x         year           id  production_budget  \\\n",
       "count      1.378000e+03  1378.000000  1378.000000       1.378000e+03   \n",
       "mean       6.067686e+07  2013.723512    51.831640       4.640999e+07   \n",
       "std        8.515963e+07     2.526786    28.560692       5.543063e+07   \n",
       "min        8.000000e+02  2010.000000     1.000000       5.000000e+04   \n",
       "25%        7.250000e+06  2011.000000    27.000000       1.000000e+07   \n",
       "50%        3.370000e+07  2014.000000    52.000000       2.500000e+07   \n",
       "75%        7.390000e+07  2016.000000    76.000000       5.800000e+07   \n",
       "max        7.001000e+08  2018.000000   100.000000       4.106000e+08   \n",
       "\n",
       "       domestic_gross_y  worldwide_gross  \n",
       "count      1.378000e+03     1.378000e+03  \n",
       "mean       6.055063e+07     1.513981e+08  \n",
       "std        8.518984e+07     2.350158e+08  \n",
       "min        0.000000e+00     0.000000e+00  \n",
       "25%        7.195253e+06     1.753941e+07  \n",
       "50%        3.333898e+07     6.531321e+07  \n",
       "75%        7.409887e+07     1.707416e+08  \n",
       "max        7.000596e+08     2.048134e+09  "
      ]
     },
     "execution_count": 37,
     "metadata": {},
     "output_type": "execute_result"
    }
   ],
   "source": [
    "df_gross.describe()"
   ]
  },
  {
   "cell_type": "code",
   "execution_count": 38,
   "metadata": {},
   "outputs": [
    {
     "data": {
      "image/png": "[encoded data removed]",
      "text/plain": [
       "<Figure size 1008x504 with 4 Axes>"
      ]
     },
     "metadata": {
      "needs_background": "light"
     },
     "output_type": "display_data"
    }
   ],
   "source": [
    "# for visual reference, boxplot\n",
    "\n",
    "fig, axs = plt.subplots(2,2, figsize = (14,7))\n",
    "\n",
    "axs[0,0].boxplot(df_gross.averagerating, vert=False)\n",
    "axs[0,0].set_title('average rating')\n",
    "axs[0,0].set(xlabel = 'average rating out of 10')\n",
    "\n",
    "axs[0,1].boxplot(df_gross.production_budget, vert=False)\n",
    "axs[0,1].set_title('production budget')\n",
    "axs[0,1].set(xlabel = '100 millions dollar')\n",
    "\n",
    "axs[1,0].boxplot(df_gross.domestic_gross_y, vert=False)\n",
    "axs[1,0].set_title('domestic gross')\n",
    "axs[1,0].set(xlabel = '100 millions dollar')\n",
    "\n",
    "axs[1,1].boxplot(df_gross.worldwide_gross, vert=False)\n",
    "axs[1,1].set_title('world wide gross')\n",
    "axs[1,1].set(xlabel = 'billion dollar')\n",
    "fig.tight_layout(pad=5.0)\n",
    "plt.show()"
   ]
  },
  {
   "cell_type": "code",
   "execution_count": 36,
   "metadata": {},
   "outputs": [
    {
     "data": {
      "image/png": "[encoded data removed]",
      "text/plain": [
       "<Figure size 1008x504 with 4 Axes>"
      ]
     },
     "metadata": {
      "needs_background": "light"
     },
     "output_type": "display_data"
    }
   ],
   "source": [
    "# visual without outliers\n",
    "\n",
    "fig, axs = plt.subplots(2,2, figsize = (14,7))\n",
    "\n",
    "axs[0,0].boxplot(df_gross.averagerating, vert=False, showfliers=False)\n",
    "axs[0,0].set_title('average rating')\n",
    "axs[0,0].set(xlabel = 'average rating out of 10')\n",
    "\n",
    "axs[0,1].boxplot(df_gross.production_budget, vert=False, showfliers=False)\n",
    "axs[0,1].set_title('production budget')\n",
    "axs[0,1].set(xlabel = '100 millions dollar')\n",
    "\n",
    "axs[1,0].boxplot(df_gross.domestic_gross_y, vert=False, showfliers=False)\n",
    "axs[1,0].set_title('domestic gross per year')\n",
    "axs[1,0].set(xlabel = '100 millions dollar per year')\n",
    "\n",
    "axs[1,1].boxplot(df_gross.worldwide_gross, vert=False, showfliers=False)\n",
    "axs[1,1].set_title('world wide gross')\n",
    "axs[1,1].set(xlabel = 'billion dollar per year')\n",
    "fig.tight_layout(pad=5.0)\n",
    "plt.show()\n",
    "\n"
   ]
  },
  {
   "cell_type": "code",
   "execution_count": null,
   "metadata": {},
   "outputs": [],
   "source": [
    "# bar chart \n",
    "\n",
    "fig, axs = plt.subplots(2,2, figsize = (14,7))\n",
    "\n",
    "axs[0,0].bar(x = df_gross['genres'], height = df_gross['production_budget'])\n",
    "axs[0,0].set_title('average rating')\n",
    "axs[0,0].set(xlabel = 'average rating out of 10')\n",
    "\n",
    "axs[0,1].bar(x = df_gross['production_budget'], height = df_gross['production_budget'])\n",
    "axs[0,1].set_title('production budget')\n",
    "axs[0,1].set(xlabel = '100 millions dollar')\n",
    "\n",
    "axs[1,0].bar(x = df_gross['domestic_gross_y'], height = df_gross['production_budget'])\n",
    "axs[1,0].set_title('domestic gross per year')\n",
    "axs[1,0].set(xlabel = '100 millions dollar per year')\n",
    "\n",
    "axs[1,1].bar(x = df_gross['worldwide_gross'], height = df_gross['production_budget'])\n",
    "axs[1,1].set_title('world wide gross')\n",
    "axs[1,1].set(xlabel = 'billion dollar per year')\n",
    "fig.tight_layout(pad=5.0)\n",
    "plt.show()\n",
    "\n"
   ]
  },
  {
   "cell_type": "code",
   "execution_count": 42,
   "metadata": {},
   "outputs": [
    {
     "name": "stdout",
     "output_type": "stream",
     "text": [
      "0.7007716362149712\n"
     ]
    }
   ],
   "source": [
    "corr = df_gross['production_budget'].corr(df_gross['domestic_gross_y'])\n",
    "print(corr)"
   ]
  },
  {
   "cell_type": "code",
   "execution_count": 45,
   "metadata": {},
   "outputs": [
    {
     "name": "stdout",
     "output_type": "stream",
     "text": [
      "0.5988645100607034\n"
     ]
    }
   ],
   "source": [
    "corr = df_gross['numvotes'].corr(df_gross['domestic_gross_y'])\n",
    "print(corr)"
   ]
  },
  {
   "cell_type": "code",
   "execution_count": 54,
   "metadata": {
    "scrolled": true
   },
   "outputs": [
    {
     "data": {
      "text/html": [
       "<div>\n",
       "<style scoped>\n",
       "    .dataframe tbody tr th:only-of-type {\n",
       "        vertical-align: middle;\n",
       "    }\n",
       "\n",
       "    .dataframe tbody tr th {\n",
       "        vertical-align: top;\n",
       "    }\n",
       "\n",
       "    .dataframe thead th {\n",
       "        text-align: right;\n",
       "    }\n",
       "</style>\n",
       "<table border=\"1\" class=\"dataframe\">\n",
       "  <thead>\n",
       "    <tr style=\"text-align: right;\">\n",
       "      <th></th>\n",
       "      <th>id</th>\n",
       "    </tr>\n",
       "  </thead>\n",
       "  <tbody>\n",
       "    <tr>\n",
       "      <th>count</th>\n",
       "      <td>5782.000000</td>\n",
       "    </tr>\n",
       "    <tr>\n",
       "      <th>mean</th>\n",
       "      <td>50.372363</td>\n",
       "    </tr>\n",
       "    <tr>\n",
       "      <th>std</th>\n",
       "      <td>28.821076</td>\n",
       "    </tr>\n",
       "    <tr>\n",
       "      <th>min</th>\n",
       "      <td>1.000000</td>\n",
       "    </tr>\n",
       "    <tr>\n",
       "      <th>25%</th>\n",
       "      <td>25.000000</td>\n",
       "    </tr>\n",
       "    <tr>\n",
       "      <th>50%</th>\n",
       "      <td>50.000000</td>\n",
       "    </tr>\n",
       "    <tr>\n",
       "      <th>75%</th>\n",
       "      <td>75.000000</td>\n",
       "    </tr>\n",
       "    <tr>\n",
       "      <th>max</th>\n",
       "      <td>100.000000</td>\n",
       "    </tr>\n",
       "  </tbody>\n",
       "</table>\n",
       "</div>"
      ],
      "text/plain": [
       "                id\n",
       "count  5782.000000\n",
       "mean     50.372363\n",
       "std      28.821076\n",
       "min       1.000000\n",
       "25%      25.000000\n",
       "50%      50.000000\n",
       "75%      75.000000\n",
       "max     100.000000"
      ]
     },
     "execution_count": 54,
     "metadata": {},
     "output_type": "execute_result"
    }
   ],
   "source": [
    "budgets = pd.read_csv(\"zippedData/tn.movie_budgets.csv.gz\")\n",
    "budgets.describe()"
   ]
  },
  {
   "cell_type": "code",
   "execution_count": 81,
   "metadata": {},
   "outputs": [
    {
     "name": "stdout",
     "output_type": "stream",
     "text": [
      "5.164715618773915 2.609009037760468e-07\n",
      "2.5794044451300455\n"
     ]
    }
   ],
   "source": [
    "# t test\n",
    "\n",
    "# production budget\n",
    "\n",
    "t_stat, p_val = stats.ttest_ind(df_gross['domestic_gross_y'], df_gross['production_budget'], equal_var = False)\n",
    "print(t_stat, p_val)\n",
    "\n",
    "\n",
    "t_critic = stats.t.ppf(1-.01/2, len(df_gross['production_budget'])-1)\n",
    "print(t_critic)\n",
    "\n",
    "# t = (df_gross['production_budget'].mean() - budgets.mean() )/(df_gross['production_budget'].std()/np.sqrt(len(df_gross['production_budget'])))\n",
    "# print(t)"
   ]
  },
  {
   "cell_type": "code",
   "execution_count": 82,
   "metadata": {},
   "outputs": [],
   "source": [
    "# p value is smaller than alpha, reject null hypothesis\n",
    "# null hypothesis: there is no relationship between budget and domestic gross\n",
    "# alpha = 0.05\n",
    "# there is significance between budgets and domestic gross"
   ]
  },
  {
   "cell_type": "code",
   "execution_count": 83,
   "metadata": {},
   "outputs": [
    {
     "data": {
      "image/png": "[encoded data removed]",
      "text/plain": [
       "<Figure size 576x360 with 1 Axes>"
      ]
     },
     "metadata": {
      "needs_background": "light"
     },
     "output_type": "display_data"
    }
   ],
   "source": [
    "# Set up figure and axes\n",
    "fig, ax = plt.subplots(figsize=(8,5))\n",
    "\n",
    "# x = df_gross['domestic_gross_y']\n",
    "# y = df_gross['production_budget']\n",
    "\n",
    "# Generate data for plotting the PDF\n",
    "# (1) generate points on the x axis between -5 and 5:\n",
    "x = np.linspace(-5, 5, 200)\n",
    "# (2) use stats.t.pdf to get values on the probability density\n",
    "# function for the t-distribution\n",
    "n = len(df_gross['production_budget'])\n",
    "y = stats.t.pdf(x, n-1 , 0, 1)\n",
    "\n",
    "# Plot the PDF as a line graph\n",
    "ax.plot(x, y, color='darkblue', label=\"t-distribution PDF\")\n",
    "\n",
    "# Plot a vertical line for our measured difference in sales t-statistic\n",
    "ax.axvline(t_critic, color='red', linestyle='--', lw=5,label='t - critical')\n",
    "ax.axvline(t_stat, color='green', linestyle='--', lw=5,label='observe t statistic')\n",
    "\n",
    "# Fill area under line graph where x value is creater than critical t\n",
    "ax.fill_betweenx(y,x,t_critic,where=x > t_critic,color=\"gray\",label=\"rejection region\")\n",
    "\n",
    "\n",
    "ax.legend()\n",
    "plt.show()\n"
   ]
  },
  {
   "cell_type": "code",
   "execution_count": 199,
   "metadata": {},
   "outputs": [
    {
     "name": "stdout",
     "output_type": "stream",
     "text": [
      "Based on the line of best fit, our slop is 1.0769970959505735, and our y-intercept is 10567206.85134866\n",
      "using median production budgets, we project domestic gross revenue equal 28086497.756722942\n",
      "our calculated correlation is 0.7007716362149713\n"
     ]
    },
    {
     "data": {
      "image/png": "[encoded data removed]",
      "text/plain": [
       "<Figure size 432x288 with 1 Axes>"
      ]
     },
     "metadata": {
      "needs_background": "light"
     },
     "output_type": "display_data"
    }
   ],
   "source": [
    "corr = df_gross['domestic_gross_y'].corr(df_gross['production_budget'])\n",
    "\n",
    "plt.scatter(y = df_gross['domestic_gross_y'], x = df_gross['production_budget'])\n",
    "plt.ylabel(\"domestic gross\")\n",
    "plt.xlabel(\"production budget\")\n",
    "a, b = np.polyfit( df_gross['production_budget'],df_gross['domestic_gross_y'], 1)\n",
    "plt.plot(df_gross['production_budget'], corr*df_gross['production_budget']+b, c = 'red')\n",
    "# plt.plot(df_gross['production_budget'], a*df_gross['production_budget']+b, c = 'orange')\n",
    "\n",
    "\n",
    "print(f'Based on the line of best fit, our slop is {a}, and our y-intercept is {b}')\n",
    "\n",
    "# plt.plot(df_gross['production_budget'], corr*df_gross['production_budget']+b, c = 'orange')\n",
    "\n",
    "projection = corr*df_gross['production_budget'].median()+b\n",
    "\n",
    "print(f'using median production budgets, we project domestic gross revenue equal {projection}')\n",
    "\n",
    "print(f'our calculated correlation is {corr}')\n",
    "\n",
    "plt.show()"
   ]
  },
  {
   "cell_type": "markdown",
   "metadata": {},
   "source": [
    "budget has to be less than 35300000 to gain profit with 99 percent confidence level"
   ]
  },
  {
   "cell_type": "code",
   "execution_count": null,
   "metadata": {},
   "outputs": [],
   "source": [
    "a > 0.7 *x + 10M\n",
    "a - 10M = .7x\n",
    "(a-10M) / .7 > x"
   ]
  },
  {
   "cell_type": "code",
   "execution_count": 91,
   "metadata": {},
   "outputs": [
    {
     "data": {
      "text/plain": [
       "60550633.897677794"
      ]
     },
     "execution_count": 91,
     "metadata": {},
     "output_type": "execute_result"
    }
   ],
   "source": [
    "# spend up to 33,338,979\n",
    "df_gross['domestic_gross_y'].mean()"
   ]
  },
  {
   "cell_type": "code",
   "execution_count": 92,
   "metadata": {},
   "outputs": [
    {
     "data": {
      "text/plain": [
       "33338979.5"
      ]
     },
     "execution_count": 92,
     "metadata": {},
     "output_type": "execute_result"
    }
   ],
   "source": [
    "df_gross['domestic_gross_y'].median()"
   ]
  },
  {
   "cell_type": "code",
   "execution_count": 142,
   "metadata": {},
   "outputs": [
    {
     "data": {
      "text/plain": [
       "33930218.065301046"
      ]
     },
     "execution_count": 142,
     "metadata": {},
     "output_type": "execute_result"
    }
   ],
   "source": [
    "# anything more than this would return more money (domestic gross > budget)\n",
    "\n",
    "corr * df_gross['domestic_gross_y'].median() + b"
   ]
  },
  {
   "cell_type": "code",
   "execution_count": 198,
   "metadata": {},
   "outputs": [
    {
     "name": "stdout",
     "output_type": "stream",
     "text": [
      "Based on the line of best fit, our slop is 3.2978020208792316, and our y-intercept is -1652843.917013149\n",
      "using median production budgets, we project domestic gross revenue equal 17792580.209538776\n",
      "our calculated correlation is 0.7778169650620771\n"
     ]
    },
    {
     "data": {
      "image/png": "[encoded data removed]",
      "text/plain": [
       "<Figure size 432x288 with 1 Axes>"
      ]
     },
     "metadata": {
      "needs_background": "light"
     },
     "output_type": "display_data"
    }
   ],
   "source": [
    "corr = df_gross['worldwide_gross'].corr(df_gross['production_budget'])\n",
    "\n",
    "plt.scatter(y = df_gross['worldwide_gross'], x = df_gross['production_budget'])\n",
    "plt.ylabel(\"worldwide_gross\")\n",
    "plt.xlabel(\"production budget\")\n",
    "a, b = np.polyfit( df_gross['production_budget'],df_gross['worldwide_gross'], 1)\n",
    "\n",
    "\n",
    "plt.plot(df_gross['production_budget'], corr*df_gross['production_budget']+b, c = 'red')\n",
    "# plt.plot(df_gross['production_budget'], a*df_gross['production_budget']+b, c = 'orange')\n",
    "\n",
    "\n",
    "fit = np.polyfit(np.log(df_gross['production_budget']), df_gross['worldwide_gross'], 1)\n",
    "#print(fit)\n",
    "\n",
    "\n",
    "# plt.plot(df_gross['production_budget'], corr*df_gross['production_budget']+b, c = 'orange')\n",
    "\n",
    "projection = corr*df_gross['production_budget'].median()+b\n",
    "\n",
    "\n",
    "\n",
    "print(f'Based on the line of best fit, our slop is {a}, and our y-intercept is {b}')\n",
    "\n",
    "print(f'using median production budgets, we project domestic gross revenue equal {projection}')\n",
    "\n",
    "print(f'our calculated correlation is {corr}')\n",
    "\n",
    "\n",
    "\n",
    "plt.show()"
   ]
  }
 ],
 "metadata": {
  "kernelspec": {
   "display_name": "Python 3",
   "language": "python",
   "name": "python3"
  },
  "language_info": {
   "codemirror_mode": {
    "name": "ipython",
    "version": 3
   },
   "file_extension": ".py",
   "mimetype": "text/x-python",
   "name": "python",
   "nbconvert_exporter": "python",
   "pygments_lexer": "ipython3",
   "version": "3.8.5"
  }
 },
 "nbformat": 4,
 "nbformat_minor": 4
}
