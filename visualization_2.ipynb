{
 "cells": [
  {
   "cell_type": "markdown",
   "metadata": {},
   "source": [
    "This is the second visualization, It display the relationship between genres and gross <br>\n",
    "For user-friendly, only display the top 10 genres between 2010 to 2020"
   ]
  },
  {
   "cell_type": "code",
   "execution_count": 1,
   "metadata": {},
   "outputs": [],
   "source": [
    "import pandas as pd\n",
    "import matplotlib.pyplot as plt\n",
    "import numpy as np\n",
    "from scipy import stats"
   ]
  },
  {
   "cell_type": "markdown",
   "metadata": {},
   "source": [
    "display top 10 genres between 2010 to 2020"
   ]
  },
  {
   "cell_type": "code",
   "execution_count": 2,
   "metadata": {},
   "outputs": [
    {
     "data": {
      "image/png": "[encoded data removed]",
      "text/plain": [
       "<Figure size 432x288 with 1 Axes>"
      ]
     },
     "metadata": {
      "needs_background": "light"
     },
     "output_type": "display_data"
    }
   ],
   "source": [
    "# open the file\n",
    "df_gross = pd.read_csv('df_gross.zip')\n",
    "\n",
    "# display bar plot of top 10 genres that occure the most between 2010 to 2020\n",
    "plt.barh(list(df_gross['genres'].value_counts().index.tolist())[:10], df_gross['genres'].value_counts()[:10], color = '#86BC25')\n",
    "plt.gca().invert_yaxis()\n",
    "\n",
    "plt.title('Top 10 Genres of Movies From 2010 to 2018')\n",
    "plt.xlabel('Total Count Of Genre')\n",
    "plt.ylabel('Genre Types')\n",
    "\n",
    "plt.show()\n"
   ]
  },
  {
   "cell_type": "markdown",
   "metadata": {},
   "source": [
    "for user-friendly purpose, use units in million"
   ]
  },
  {
   "cell_type": "code",
   "execution_count": 3,
   "metadata": {},
   "outputs": [],
   "source": [
    "df_gross['domestic_gross_y_in_m'] = df_gross['domestic_gross_y']/1000000"
   ]
  },
  {
   "cell_type": "markdown",
   "metadata": {},
   "source": [
    "group the movies by genres, and only keep the domestic gross of genres in top 10"
   ]
  },
  {
   "cell_type": "code",
   "execution_count": 4,
   "metadata": {},
   "outputs": [
    {
     "data": {
      "text/html": [
       "<div>\n",
       "<style scoped>\n",
       "    .dataframe tbody tr th:only-of-type {\n",
       "        vertical-align: middle;\n",
       "    }\n",
       "\n",
       "    .dataframe tbody tr th {\n",
       "        vertical-align: top;\n",
       "    }\n",
       "\n",
       "    .dataframe thead th {\n",
       "        text-align: right;\n",
       "    }\n",
       "</style>\n",
       "<table border=\"1\" class=\"dataframe\">\n",
       "  <thead>\n",
       "    <tr style=\"text-align: right;\">\n",
       "      <th></th>\n",
       "      <th>genres</th>\n",
       "      <th>domestic_gross_y_in_m</th>\n",
       "    </tr>\n",
       "  </thead>\n",
       "  <tbody>\n",
       "    <tr>\n",
       "      <th>7</th>\n",
       "      <td>Action,Adventure,Sci-Fi</td>\n",
       "      <td>215.816297</td>\n",
       "    </tr>\n",
       "    <tr>\n",
       "      <th>19</th>\n",
       "      <td>Adventure,Animation,Comedy</td>\n",
       "      <td>123.087120</td>\n",
       "    </tr>\n",
       "    <tr>\n",
       "      <th>41</th>\n",
       "      <td>Action,Adventure,Fantasy</td>\n",
       "      <td>59.993997</td>\n",
       "    </tr>\n",
       "    <tr>\n",
       "      <th>46</th>\n",
       "      <td>Comedy</td>\n",
       "      <td>53.895268</td>\n",
       "    </tr>\n",
       "    <tr>\n",
       "      <th>76</th>\n",
       "      <td>Comedy,Romance</td>\n",
       "      <td>39.977244</td>\n",
       "    </tr>\n",
       "    <tr>\n",
       "      <th>101</th>\n",
       "      <td>Action,Crime,Drama</td>\n",
       "      <td>29.288556</td>\n",
       "    </tr>\n",
       "    <tr>\n",
       "      <th>138</th>\n",
       "      <td>Comedy,Drama</td>\n",
       "      <td>18.419242</td>\n",
       "    </tr>\n",
       "    <tr>\n",
       "      <th>140</th>\n",
       "      <td>Comedy,Drama,Romance</td>\n",
       "      <td>17.550872</td>\n",
       "    </tr>\n",
       "    <tr>\n",
       "      <th>157</th>\n",
       "      <td>Drama,Romance</td>\n",
       "      <td>12.816367</td>\n",
       "    </tr>\n",
       "    <tr>\n",
       "      <th>159</th>\n",
       "      <td>Drama</td>\n",
       "      <td>12.734171</td>\n",
       "    </tr>\n",
       "  </tbody>\n",
       "</table>\n",
       "</div>"
      ],
      "text/plain": [
       "                         genres  domestic_gross_y_in_m\n",
       "7       Action,Adventure,Sci-Fi             215.816297\n",
       "19   Adventure,Animation,Comedy             123.087120\n",
       "41     Action,Adventure,Fantasy              59.993997\n",
       "46                       Comedy              53.895268\n",
       "76               Comedy,Romance              39.977244\n",
       "101          Action,Crime,Drama              29.288556\n",
       "138                Comedy,Drama              18.419242\n",
       "140        Comedy,Drama,Romance              17.550872\n",
       "157               Drama,Romance              12.816367\n",
       "159                       Drama              12.734171"
      ]
     },
     "execution_count": 4,
     "metadata": {},
     "output_type": "execute_result"
    }
   ],
   "source": [
    "# group table by genres and sort it in descending order\n",
    "series_tmp = df_gross.groupby('genres')['domestic_gross_y_in_m'].median().sort_values(ascending = False)\n",
    "\n",
    "# take top 10 genres\n",
    "tmp_list = list(df_gross['genres'].value_counts().index.tolist())[:10]\n",
    "series_tmp = series_tmp.reset_index()\n",
    "\n",
    "# only take the genres in top 10\n",
    "series_tmp = series_tmp[series_tmp['genres'].isin(tmp_list)]\n",
    "series_tmp"
   ]
  },
  {
   "cell_type": "markdown",
   "metadata": {},
   "source": [
    "display domestic gross of top 10 genres"
   ]
  },
  {
   "cell_type": "code",
   "execution_count": 5,
   "metadata": {
    "scrolled": true
   },
   "outputs": [
    {
     "data": {
      "image/png": "[encoded data removed]",
      "text/plain": [
       "<Figure size 432x288 with 1 Axes>"
      ]
     },
     "metadata": {
      "needs_background": "light"
     },
     "output_type": "display_data"
    }
   ],
   "source": [
    "# create dataframe from series that only includes domestic gross of top 10 genres\n",
    "df_graph = pd.DataFrame(series_tmp)\n",
    "\n",
    "# draw bar plot\n",
    "df_graph[:10].plot.barh(color = '#86BC25', width=0.8).set_yticklabels(df_graph['genres'])\n",
    "\n",
    "plt.gca().invert_yaxis()\n",
    "\n",
    "plt.title('Top 10 Highest Grossing Genres')\n",
    "plt.xlabel('Dollars in 100 million')\n",
    "plt.ylabel('Genre')\n",
    "plt.legend('')\n",
    "\n",
    "plt.show()\n"
   ]
  },
  {
   "cell_type": "markdown",
   "metadata": {},
   "source": [
    "<br>\n",
    "Visualize the number movies in recommending genres in each year <br> <br>\n",
    "The recommending genres are 'Adventure,Animation,Comedy' and 'Action,Crime,Drama' because there are less number of movies produced with higher gross compare to other genres"
   ]
  },
  {
   "cell_type": "code",
   "execution_count": 6,
   "metadata": {},
   "outputs": [
    {
     "data": {
      "text/plain": [
       "2017    10\n",
       "2016     9\n",
       "2011     9\n",
       "2013     7\n",
       "2015     6\n",
       "2012     6\n",
       "2018     5\n",
       "2014     5\n",
       "2010     4\n",
       "Name: year, dtype: int64"
      ]
     },
     "execution_count": 6,
     "metadata": {},
     "output_type": "execute_result"
    }
   ],
   "source": [
    "# check whether numbers are valid\n",
    "df_gross.loc[df_gross['genres'] == 'Adventure,Animation,Comedy', 'year'].value_counts()"
   ]
  },
  {
   "cell_type": "code",
   "execution_count": 11,
   "metadata": {},
   "outputs": [
    {
     "data": {
      "image/png": "[encoded data removed]",
      "text/plain": [
       "<Figure size 432x288 with 1 Axes>"
      ]
     },
     "metadata": {
      "needs_background": "light"
     },
     "output_type": "display_data"
    }
   ],
   "source": [
    "# plot the Action,Adventure,Fantasy first\n",
    "series_tmp = df_gross.loc[df_gross['genres'] == 'Action,Adventure,Fantasy', 'year'].value_counts()\n",
    "series_tmp.sort_index().plot.bar(color = '#86BC25', width=0.8)\n",
    "\n",
    "plt.title('Action,Adventure,Fantasy Movies')\n",
    "plt.xlabel('Year')\n",
    "plt.ylabel('Number of Movies')\n",
    "\n",
    "plt.show()"
   ]
  },
  {
   "cell_type": "code",
   "execution_count": 12,
   "metadata": {
    "scrolled": true
   },
   "outputs": [
    {
     "data": {
      "image/png": "[encoded data removed]",
      "text/plain": [
       "<Figure size 432x288 with 1 Axes>"
      ]
     },
     "metadata": {
      "needs_background": "light"
     },
     "output_type": "display_data"
    }
   ],
   "source": [
    "# plot Action,Crime,Drama\n",
    "series_tmp = df_gross.loc[df_gross['genres'] == 'Action,Crime,Drama', 'year'].value_counts()\n",
    "series_tmp.sort_index().plot.bar(color = '#86BC25', width=0.8)\n",
    "\n",
    "plt.title('Action,Crime,Drama Movies')\n",
    "plt.xlabel('Year')\n",
    "plt.ylabel('Number of Movies')\n",
    "\n",
    "plt.show()"
   ]
  },
  {
   "cell_type": "markdown",
   "metadata": {},
   "source": [
    "show few example that has recommending genres"
   ]
  },
  {
   "cell_type": "code",
   "execution_count": 9,
   "metadata": {},
   "outputs": [
    {
     "data": {
      "text/html": [
       "<div>\n",
       "<style scoped>\n",
       "    .dataframe tbody tr th:only-of-type {\n",
       "        vertical-align: middle;\n",
       "    }\n",
       "\n",
       "    .dataframe tbody tr th {\n",
       "        vertical-align: top;\n",
       "    }\n",
       "\n",
       "    .dataframe thead th {\n",
       "        text-align: right;\n",
       "    }\n",
       "</style>\n",
       "<table border=\"1\" class=\"dataframe\">\n",
       "  <thead>\n",
       "    <tr style=\"text-align: right;\">\n",
       "      <th></th>\n",
       "      <th>movie_id</th>\n",
       "      <th>primary_title</th>\n",
       "      <th>original_title</th>\n",
       "      <th>start_year</th>\n",
       "      <th>runtime_minutes</th>\n",
       "      <th>genres</th>\n",
       "      <th>movie_id.1</th>\n",
       "      <th>averagerating</th>\n",
       "      <th>numvotes</th>\n",
       "      <th>title</th>\n",
       "      <th>studio</th>\n",
       "      <th>domestic_gross_x</th>\n",
       "      <th>year</th>\n",
       "      <th>id</th>\n",
       "      <th>release_date</th>\n",
       "      <th>movie</th>\n",
       "      <th>production_budget</th>\n",
       "      <th>domestic_gross_y</th>\n",
       "      <th>worldwide_gross</th>\n",
       "      <th>domestic_gross_y_in_m</th>\n",
       "    </tr>\n",
       "  </thead>\n",
       "  <tbody>\n",
       "    <tr>\n",
       "      <th>14</th>\n",
       "      <td>tt0800369</td>\n",
       "      <td>Thor</td>\n",
       "      <td>Thor</td>\n",
       "      <td>2011</td>\n",
       "      <td>115.0</td>\n",
       "      <td>Action,Adventure,Fantasy</td>\n",
       "      <td>tt0800369</td>\n",
       "      <td>7.0</td>\n",
       "      <td>683264</td>\n",
       "      <td>Thor</td>\n",
       "      <td>Par.</td>\n",
       "      <td>181000000.0</td>\n",
       "      <td>2011</td>\n",
       "      <td>70</td>\n",
       "      <td>May 6, 2011</td>\n",
       "      <td>Thor</td>\n",
       "      <td>150000000</td>\n",
       "      <td>181030624</td>\n",
       "      <td>449326618</td>\n",
       "      <td>181.030624</td>\n",
       "    </tr>\n",
       "    <tr>\n",
       "      <th>36</th>\n",
       "      <td>tt2975590</td>\n",
       "      <td>Batman v Superman: Dawn of Justice</td>\n",
       "      <td>Batman v Superman: Dawn of Justice</td>\n",
       "      <td>2016</td>\n",
       "      <td>151.0</td>\n",
       "      <td>Action,Adventure,Fantasy</td>\n",
       "      <td>tt2975590</td>\n",
       "      <td>6.5</td>\n",
       "      <td>576909</td>\n",
       "      <td>Batman v Superman: Dawn of Justice</td>\n",
       "      <td>WB</td>\n",
       "      <td>330400000.0</td>\n",
       "      <td>2016</td>\n",
       "      <td>18</td>\n",
       "      <td>Mar 25, 2016</td>\n",
       "      <td>Batman v Superman: Dawn of Justice</td>\n",
       "      <td>250000000</td>\n",
       "      <td>330360194</td>\n",
       "      <td>867500281</td>\n",
       "      <td>330.360194</td>\n",
       "    </tr>\n",
       "    <tr>\n",
       "      <th>45</th>\n",
       "      <td>tt1981115</td>\n",
       "      <td>Thor: The Dark World</td>\n",
       "      <td>Thor: The Dark World</td>\n",
       "      <td>2013</td>\n",
       "      <td>112.0</td>\n",
       "      <td>Action,Adventure,Fantasy</td>\n",
       "      <td>tt1981115</td>\n",
       "      <td>6.9</td>\n",
       "      <td>540996</td>\n",
       "      <td>Thor: The Dark World</td>\n",
       "      <td>BV</td>\n",
       "      <td>206400000.0</td>\n",
       "      <td>2013</td>\n",
       "      <td>66</td>\n",
       "      <td>Nov 8, 2013</td>\n",
       "      <td>Thor: The Dark World</td>\n",
       "      <td>150000000</td>\n",
       "      <td>206362140</td>\n",
       "      <td>644602516</td>\n",
       "      <td>206.362140</td>\n",
       "    </tr>\n",
       "    <tr>\n",
       "      <th>55</th>\n",
       "      <td>tt1386697</td>\n",
       "      <td>Suicide Squad</td>\n",
       "      <td>Suicide Squad</td>\n",
       "      <td>2016</td>\n",
       "      <td>123.0</td>\n",
       "      <td>Action,Adventure,Fantasy</td>\n",
       "      <td>tt1386697</td>\n",
       "      <td>6.0</td>\n",
       "      <td>533039</td>\n",
       "      <td>Suicide Squad</td>\n",
       "      <td>WB</td>\n",
       "      <td>325100000.0</td>\n",
       "      <td>2016</td>\n",
       "      <td>100</td>\n",
       "      <td>Aug 5, 2016</td>\n",
       "      <td>Suicide Squad</td>\n",
       "      <td>175000000</td>\n",
       "      <td>325100054</td>\n",
       "      <td>746059887</td>\n",
       "      <td>325.100054</td>\n",
       "    </tr>\n",
       "    <tr>\n",
       "      <th>63</th>\n",
       "      <td>tt1211837</td>\n",
       "      <td>Doctor Strange</td>\n",
       "      <td>Doctor Strange</td>\n",
       "      <td>2016</td>\n",
       "      <td>115.0</td>\n",
       "      <td>Action,Adventure,Fantasy</td>\n",
       "      <td>tt1211837</td>\n",
       "      <td>7.5</td>\n",
       "      <td>514510</td>\n",
       "      <td>Doctor Strange</td>\n",
       "      <td>BV</td>\n",
       "      <td>232600000.0</td>\n",
       "      <td>2016</td>\n",
       "      <td>28</td>\n",
       "      <td>Nov 4, 2016</td>\n",
       "      <td>Doctor Strange</td>\n",
       "      <td>165000000</td>\n",
       "      <td>232641920</td>\n",
       "      <td>676404566</td>\n",
       "      <td>232.641920</td>\n",
       "    </tr>\n",
       "  </tbody>\n",
       "</table>\n",
       "</div>"
      ],
      "text/plain": [
       "     movie_id                       primary_title  \\\n",
       "14  tt0800369                                Thor   \n",
       "36  tt2975590  Batman v Superman: Dawn of Justice   \n",
       "45  tt1981115                Thor: The Dark World   \n",
       "55  tt1386697                       Suicide Squad   \n",
       "63  tt1211837                      Doctor Strange   \n",
       "\n",
       "                        original_title  start_year  runtime_minutes  \\\n",
       "14                                Thor        2011            115.0   \n",
       "36  Batman v Superman: Dawn of Justice        2016            151.0   \n",
       "45                Thor: The Dark World        2013            112.0   \n",
       "55                       Suicide Squad        2016            123.0   \n",
       "63                      Doctor Strange        2016            115.0   \n",
       "\n",
       "                      genres movie_id.1  averagerating  numvotes  \\\n",
       "14  Action,Adventure,Fantasy  tt0800369            7.0    683264   \n",
       "36  Action,Adventure,Fantasy  tt2975590            6.5    576909   \n",
       "45  Action,Adventure,Fantasy  tt1981115            6.9    540996   \n",
       "55  Action,Adventure,Fantasy  tt1386697            6.0    533039   \n",
       "63  Action,Adventure,Fantasy  tt1211837            7.5    514510   \n",
       "\n",
       "                                 title studio  domestic_gross_x  year   id  \\\n",
       "14                                Thor   Par.       181000000.0  2011   70   \n",
       "36  Batman v Superman: Dawn of Justice     WB       330400000.0  2016   18   \n",
       "45                Thor: The Dark World     BV       206400000.0  2013   66   \n",
       "55                       Suicide Squad     WB       325100000.0  2016  100   \n",
       "63                      Doctor Strange     BV       232600000.0  2016   28   \n",
       "\n",
       "    release_date                               movie  production_budget  \\\n",
       "14   May 6, 2011                                Thor          150000000   \n",
       "36  Mar 25, 2016  Batman v Superman: Dawn of Justice          250000000   \n",
       "45   Nov 8, 2013                Thor: The Dark World          150000000   \n",
       "55   Aug 5, 2016                       Suicide Squad          175000000   \n",
       "63   Nov 4, 2016                      Doctor Strange          165000000   \n",
       "\n",
       "    domestic_gross_y  worldwide_gross  domestic_gross_y_in_m  \n",
       "14         181030624        449326618             181.030624  \n",
       "36         330360194        867500281             330.360194  \n",
       "45         206362140        644602516             206.362140  \n",
       "55         325100054        746059887             325.100054  \n",
       "63         232641920        676404566             232.641920  "
      ]
     },
     "execution_count": 9,
     "metadata": {},
     "output_type": "execute_result"
    }
   ],
   "source": [
    "df_gross[df_gross['genres'] == 'Action,Adventure,Fantasy'].head()"
   ]
  },
  {
   "cell_type": "code",
   "execution_count": 10,
   "metadata": {},
   "outputs": [
    {
     "data": {
      "text/html": [
       "<div>\n",
       "<style scoped>\n",
       "    .dataframe tbody tr th:only-of-type {\n",
       "        vertical-align: middle;\n",
       "    }\n",
       "\n",
       "    .dataframe tbody tr th {\n",
       "        vertical-align: top;\n",
       "    }\n",
       "\n",
       "    .dataframe thead th {\n",
       "        text-align: right;\n",
       "    }\n",
       "</style>\n",
       "<table border=\"1\" class=\"dataframe\">\n",
       "  <thead>\n",
       "    <tr style=\"text-align: right;\">\n",
       "      <th></th>\n",
       "      <th>movie_id</th>\n",
       "      <th>primary_title</th>\n",
       "      <th>original_title</th>\n",
       "      <th>start_year</th>\n",
       "      <th>runtime_minutes</th>\n",
       "      <th>genres</th>\n",
       "      <th>movie_id.1</th>\n",
       "      <th>averagerating</th>\n",
       "      <th>numvotes</th>\n",
       "      <th>title</th>\n",
       "      <th>studio</th>\n",
       "      <th>domestic_gross_x</th>\n",
       "      <th>year</th>\n",
       "      <th>id</th>\n",
       "      <th>release_date</th>\n",
       "      <th>movie</th>\n",
       "      <th>production_budget</th>\n",
       "      <th>domestic_gross_y</th>\n",
       "      <th>worldwide_gross</th>\n",
       "      <th>domestic_gross_y_in_m</th>\n",
       "    </tr>\n",
       "  </thead>\n",
       "  <tbody>\n",
       "    <tr>\n",
       "      <th>65</th>\n",
       "      <td>tt1276104</td>\n",
       "      <td>Looper</td>\n",
       "      <td>Looper</td>\n",
       "      <td>2012</td>\n",
       "      <td>113.0</td>\n",
       "      <td>Action,Crime,Drama</td>\n",
       "      <td>tt1276104</td>\n",
       "      <td>7.4</td>\n",
       "      <td>500595</td>\n",
       "      <td>Looper</td>\n",
       "      <td>TriS</td>\n",
       "      <td>66500000.0</td>\n",
       "      <td>2012</td>\n",
       "      <td>69</td>\n",
       "      <td>Sep 28, 2012</td>\n",
       "      <td>Looper</td>\n",
       "      <td>30000000</td>\n",
       "      <td>66486205</td>\n",
       "      <td>170466405</td>\n",
       "      <td>66.486205</td>\n",
       "    </tr>\n",
       "    <tr>\n",
       "      <th>124</th>\n",
       "      <td>tt3890160</td>\n",
       "      <td>Baby Driver</td>\n",
       "      <td>Baby Driver</td>\n",
       "      <td>2017</td>\n",
       "      <td>113.0</td>\n",
       "      <td>Action,Crime,Drama</td>\n",
       "      <td>tt3890160</td>\n",
       "      <td>7.6</td>\n",
       "      <td>363977</td>\n",
       "      <td>Baby Driver</td>\n",
       "      <td>TriS</td>\n",
       "      <td>107800000.0</td>\n",
       "      <td>2017</td>\n",
       "      <td>59</td>\n",
       "      <td>Jun 28, 2017</td>\n",
       "      <td>Baby Driver</td>\n",
       "      <td>34000000</td>\n",
       "      <td>107825862</td>\n",
       "      <td>228104185</td>\n",
       "      <td>107.825862</td>\n",
       "    </tr>\n",
       "    <tr>\n",
       "      <th>135</th>\n",
       "      <td>tt1637688</td>\n",
       "      <td>In Time</td>\n",
       "      <td>In Time</td>\n",
       "      <td>2011</td>\n",
       "      <td>109.0</td>\n",
       "      <td>Action,Crime,Drama</td>\n",
       "      <td>tt1637688</td>\n",
       "      <td>6.7</td>\n",
       "      <td>346077</td>\n",
       "      <td>In Time</td>\n",
       "      <td>Fox</td>\n",
       "      <td>37500000.0</td>\n",
       "      <td>2011</td>\n",
       "      <td>74</td>\n",
       "      <td>Oct 28, 2011</td>\n",
       "      <td>In Time</td>\n",
       "      <td>35000000</td>\n",
       "      <td>37553932</td>\n",
       "      <td>165103952</td>\n",
       "      <td>37.553932</td>\n",
       "    </tr>\n",
       "    <tr>\n",
       "      <th>146</th>\n",
       "      <td>tt3397884</td>\n",
       "      <td>Sicario</td>\n",
       "      <td>Sicario</td>\n",
       "      <td>2015</td>\n",
       "      <td>121.0</td>\n",
       "      <td>Action,Crime,Drama</td>\n",
       "      <td>tt3397884</td>\n",
       "      <td>7.6</td>\n",
       "      <td>328548</td>\n",
       "      <td>Sicario</td>\n",
       "      <td>LGF</td>\n",
       "      <td>46900000.0</td>\n",
       "      <td>2015</td>\n",
       "      <td>100</td>\n",
       "      <td>Sep 18, 2015</td>\n",
       "      <td>Sicario</td>\n",
       "      <td>30000000</td>\n",
       "      <td>46889293</td>\n",
       "      <td>84393749</td>\n",
       "      <td>46.889293</td>\n",
       "    </tr>\n",
       "    <tr>\n",
       "      <th>224</th>\n",
       "      <td>tt2140479</td>\n",
       "      <td>The Accountant</td>\n",
       "      <td>The Accountant</td>\n",
       "      <td>2016</td>\n",
       "      <td>128.0</td>\n",
       "      <td>Action,Crime,Drama</td>\n",
       "      <td>tt2140479</td>\n",
       "      <td>7.3</td>\n",
       "      <td>233022</td>\n",
       "      <td>The Accountant</td>\n",
       "      <td>WB</td>\n",
       "      <td>86300000.0</td>\n",
       "      <td>2016</td>\n",
       "      <td>100</td>\n",
       "      <td>Oct 14, 2016</td>\n",
       "      <td>The Accountant</td>\n",
       "      <td>40000000</td>\n",
       "      <td>86260045</td>\n",
       "      <td>152962083</td>\n",
       "      <td>86.260045</td>\n",
       "    </tr>\n",
       "  </tbody>\n",
       "</table>\n",
       "</div>"
      ],
      "text/plain": [
       "      movie_id   primary_title  original_title  start_year  runtime_minutes  \\\n",
       "65   tt1276104          Looper          Looper        2012            113.0   \n",
       "124  tt3890160     Baby Driver     Baby Driver        2017            113.0   \n",
       "135  tt1637688         In Time         In Time        2011            109.0   \n",
       "146  tt3397884         Sicario         Sicario        2015            121.0   \n",
       "224  tt2140479  The Accountant  The Accountant        2016            128.0   \n",
       "\n",
       "                 genres movie_id.1  averagerating  numvotes           title  \\\n",
       "65   Action,Crime,Drama  tt1276104            7.4    500595          Looper   \n",
       "124  Action,Crime,Drama  tt3890160            7.6    363977     Baby Driver   \n",
       "135  Action,Crime,Drama  tt1637688            6.7    346077         In Time   \n",
       "146  Action,Crime,Drama  tt3397884            7.6    328548         Sicario   \n",
       "224  Action,Crime,Drama  tt2140479            7.3    233022  The Accountant   \n",
       "\n",
       "    studio  domestic_gross_x  year   id  release_date           movie  \\\n",
       "65    TriS        66500000.0  2012   69  Sep 28, 2012          Looper   \n",
       "124   TriS       107800000.0  2017   59  Jun 28, 2017     Baby Driver   \n",
       "135    Fox        37500000.0  2011   74  Oct 28, 2011         In Time   \n",
       "146    LGF        46900000.0  2015  100  Sep 18, 2015         Sicario   \n",
       "224     WB        86300000.0  2016  100  Oct 14, 2016  The Accountant   \n",
       "\n",
       "     production_budget  domestic_gross_y  worldwide_gross  \\\n",
       "65            30000000          66486205        170466405   \n",
       "124           34000000         107825862        228104185   \n",
       "135           35000000          37553932        165103952   \n",
       "146           30000000          46889293         84393749   \n",
       "224           40000000          86260045        152962083   \n",
       "\n",
       "     domestic_gross_y_in_m  \n",
       "65               66.486205  \n",
       "124             107.825862  \n",
       "135              37.553932  \n",
       "146              46.889293  \n",
       "224              86.260045  "
      ]
     },
     "execution_count": 10,
     "metadata": {},
     "output_type": "execute_result"
    }
   ],
   "source": [
    "df_gross[df_gross['genres'] == 'Action,Crime,Drama'].head()"
   ]
  },
  {
   "cell_type": "code",
   "execution_count": null,
   "metadata": {},
   "outputs": [],
   "source": []
  }
 ],
 "metadata": {
  "kernelspec": {
   "display_name": "Python 3",
   "language": "python",
   "name": "python3"
  },
  "language_info": {
   "codemirror_mode": {
    "name": "ipython",
    "version": 3
   },
   "file_extension": ".py",
   "mimetype": "text/x-python",
   "name": "python",
   "nbconvert_exporter": "python",
   "pygments_lexer": "ipython3",
   "version": "3.8.5"
  }
 },
 "nbformat": 4,
 "nbformat_minor": 4
}
