{
 "cells": [
  {
   "cell_type": "markdown",
   "metadata": {},
   "source": [
    "This is the second visualization, It display the relationship between genres and gross <br>\n",
    "For user-friendly, only display the top 10 genres between 2010 to 2020"
   ]
  },
  {
   "cell_type": "code",
   "execution_count": 2,
   "metadata": {},
   "outputs": [],
   "source": [
    "import pandas as pd\n",
    "import matplotlib.pyplot as plt\n",
    "import numpy as np\n",
    "from scipy import stats"
   ]
  },
  {
   "cell_type": "markdown",
   "metadata": {},
   "source": [
    "display top 10 genres between 2010 to 2020"
   ]
  },
  {
   "cell_type": "code",
   "execution_count": 5,
   "metadata": {},
   "outputs": [
    {
     "data": {
      "image/png": "[encoded data removed]",
      "text/plain": [
       "<Figure size 432x288 with 1 Axes>"
      ]
     },
     "metadata": {
      "needs_background": "light"
     },
     "output_type": "display_data"
    }
   ],
   "source": [
    "# open the file\n",
    "df_gross = pd.read_csv('df_gross.zip')\n",
    "\n",
    "# display bar plot of top 10 genres that occure the most between 2010 to 2020\n",
    "plt.barh(list(df_gross['genres'].value_counts().index.tolist())[:10], df_gross['genres'].value_counts()[:10], color = '#86BC25')\n",
    "plt.gca().invert_yaxis()\n",
    "\n",
    "plt.title('Top 10 Genres of Movies From 2010 to 2020')\n",
    "plt.xlabel('Total Count Of Genre')\n",
    "plt.ylabel('Genre Types')\n",
    "\n",
    "plt.show()\n"
   ]
  },
  {
   "cell_type": "markdown",
   "metadata": {},
   "source": [
    "for user-friendly purpose, use units in million"
   ]
  },
  {
   "cell_type": "code",
   "execution_count": 11,
   "metadata": {},
   "outputs": [],
   "source": [
    "df_gross['domestic_gross_y_in_m'] = df_gross['domestic_gross_y']/1000000"
   ]
  },
  {
   "cell_type": "markdown",
   "metadata": {},
   "source": [
    "group the movies by genres, and only keep the domestic gross of genres in top 10"
   ]
  },
  {
   "cell_type": "code",
   "execution_count": 12,
   "metadata": {},
   "outputs": [
    {
     "data": {
      "text/html": [
       "<div>\n",
       "<style scoped>\n",
       "    .dataframe tbody tr th:only-of-type {\n",
       "        vertical-align: middle;\n",
       "    }\n",
       "\n",
       "    .dataframe tbody tr th {\n",
       "        vertical-align: top;\n",
       "    }\n",
       "\n",
       "    .dataframe thead th {\n",
       "        text-align: right;\n",
       "    }\n",
       "</style>\n",
       "<table border=\"1\" class=\"dataframe\">\n",
       "  <thead>\n",
       "    <tr style=\"text-align: right;\">\n",
       "      <th></th>\n",
       "      <th>genres</th>\n",
       "      <th>domestic_gross_y_in_m</th>\n",
       "    </tr>\n",
       "  </thead>\n",
       "  <tbody>\n",
       "    <tr>\n",
       "      <th>7</th>\n",
       "      <td>Action,Adventure,Sci-Fi</td>\n",
       "      <td>215.816297</td>\n",
       "    </tr>\n",
       "    <tr>\n",
       "      <th>19</th>\n",
       "      <td>Adventure,Animation,Comedy</td>\n",
       "      <td>123.087120</td>\n",
       "    </tr>\n",
       "    <tr>\n",
       "      <th>41</th>\n",
       "      <td>Action,Adventure,Fantasy</td>\n",
       "      <td>59.993997</td>\n",
       "    </tr>\n",
       "    <tr>\n",
       "      <th>46</th>\n",
       "      <td>Comedy</td>\n",
       "      <td>53.895268</td>\n",
       "    </tr>\n",
       "    <tr>\n",
       "      <th>76</th>\n",
       "      <td>Comedy,Romance</td>\n",
       "      <td>39.977244</td>\n",
       "    </tr>\n",
       "    <tr>\n",
       "      <th>101</th>\n",
       "      <td>Action,Crime,Drama</td>\n",
       "      <td>29.288556</td>\n",
       "    </tr>\n",
       "    <tr>\n",
       "      <th>138</th>\n",
       "      <td>Comedy,Drama</td>\n",
       "      <td>18.419242</td>\n",
       "    </tr>\n",
       "    <tr>\n",
       "      <th>140</th>\n",
       "      <td>Comedy,Drama,Romance</td>\n",
       "      <td>17.550872</td>\n",
       "    </tr>\n",
       "    <tr>\n",
       "      <th>157</th>\n",
       "      <td>Drama,Romance</td>\n",
       "      <td>12.816367</td>\n",
       "    </tr>\n",
       "    <tr>\n",
       "      <th>159</th>\n",
       "      <td>Drama</td>\n",
       "      <td>12.734171</td>\n",
       "    </tr>\n",
       "  </tbody>\n",
       "</table>\n",
       "</div>"
      ],
      "text/plain": [
       "                         genres  domestic_gross_y_in_m\n",
       "7       Action,Adventure,Sci-Fi             215.816297\n",
       "19   Adventure,Animation,Comedy             123.087120\n",
       "41     Action,Adventure,Fantasy              59.993997\n",
       "46                       Comedy              53.895268\n",
       "76               Comedy,Romance              39.977244\n",
       "101          Action,Crime,Drama              29.288556\n",
       "138                Comedy,Drama              18.419242\n",
       "140        Comedy,Drama,Romance              17.550872\n",
       "157               Drama,Romance              12.816367\n",
       "159                       Drama              12.734171"
      ]
     },
     "execution_count": 12,
     "metadata": {},
     "output_type": "execute_result"
    }
   ],
   "source": [
    "# group table by genres and sort it in descending order\n",
    "series_tmp = df_gross.groupby('genres')['domestic_gross_y_in_m'].median().sort_values(ascending = False)\n",
    "\n",
    "# take top 10 genres\n",
    "tmp_list = list(df_gross['genres'].value_counts().index.tolist())[:10]\n",
    "series_tmp = series_tmp.reset_index()\n",
    "\n",
    "# only take the genres in top 10\n",
    "series_tmp = series_tmp[series_tmp['genres'].isin(tmp_list)]\n",
    "series_tmp"
   ]
  },
  {
   "cell_type": "markdown",
   "metadata": {},
   "source": [
    "display domestic gross of top 10 genres"
   ]
  },
  {
   "cell_type": "code",
   "execution_count": 14,
   "metadata": {},
   "outputs": [
    {
     "data": {
      "image/png": "[encoded data removed]",
      "text/plain": [
       "<Figure size 432x288 with 1 Axes>"
      ]
     },
     "metadata": {
      "needs_background": "light"
     },
     "output_type": "display_data"
    }
   ],
   "source": [
    "# create dataframe from series that only includes domestic gross of top 10 genres\n",
    "df_graph = pd.DataFrame(series_tmp)\n",
    "\n",
    "# draw bar plot\n",
    "df_graph[:10].plot.barh(color = '#86BC25', width=0.8).set_yticklabels(df_graph['genres'])\n",
    "\n",
    "plt.gca().invert_yaxis()\n",
    "\n",
    "plt.title('Top 10 Highest Grossing Genres')\n",
    "plt.xlabel('Dollars in 100 million')\n",
    "plt.ylabel('Genre')\n",
    "plt.legend('')\n",
    "\n",
    "plt.show()\n"
   ]
  }
 ],
 "metadata": {
  "kernelspec": {
   "display_name": "Python 3",
   "language": "python",
   "name": "python3"
  },
  "language_info": {
   "codemirror_mode": {
    "name": "ipython",
    "version": 3
   },
   "file_extension": ".py",
   "mimetype": "text/x-python",
   "name": "python",
   "nbconvert_exporter": "python",
   "pygments_lexer": "ipython3",
   "version": "3.8.5"
  }
 },
 "nbformat": 4,
 "nbformat_minor": 4
}
